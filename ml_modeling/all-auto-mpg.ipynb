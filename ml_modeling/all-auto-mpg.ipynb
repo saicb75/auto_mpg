{
 "cells": [
  {
   "cell_type": "markdown",
   "metadata": {},
   "source": [
    "# How the code is organized\n",
    "The code is provided in 2 sections:\n",
    "\n",
    "Section 1: Auto mpg, Model Creation and Saving\n",
    "\n",
    "Section 2: Deployment, For deployment, refer to the Flask application under the deployment folder"
   ]
  },
  {
   "cell_type": "code",
   "execution_count": 1,
   "metadata": {},
   "outputs": [],
   "source": [
    "#import the relevant libraries\n",
    "\n",
    "import pandas as pd\n",
    "import numpy as np\n",
    "import matplotlib.pyplot as plt\n",
    "import seaborn as sns\n",
    "import pickle\n"
   ]
  },
  {
   "cell_type": "code",
   "execution_count": 2,
   "metadata": {},
   "outputs": [
    {
     "data": {
      "text/html": [
       "<div>\n",
       "<style scoped>\n",
       "    .dataframe tbody tr th:only-of-type {\n",
       "        vertical-align: middle;\n",
       "    }\n",
       "\n",
       "    .dataframe tbody tr th {\n",
       "        vertical-align: top;\n",
       "    }\n",
       "\n",
       "    .dataframe thead th {\n",
       "        text-align: right;\n",
       "    }\n",
       "</style>\n",
       "<table border=\"1\" class=\"dataframe\">\n",
       "  <thead>\n",
       "    <tr style=\"text-align: right;\">\n",
       "      <th></th>\n",
       "      <th>mpg</th>\n",
       "      <th>cylinders</th>\n",
       "      <th>displacement</th>\n",
       "      <th>horsepower</th>\n",
       "      <th>weight</th>\n",
       "      <th>acceleration</th>\n",
       "      <th>model year</th>\n",
       "      <th>origin</th>\n",
       "      <th>car name</th>\n",
       "    </tr>\n",
       "  </thead>\n",
       "  <tbody>\n",
       "    <tr>\n",
       "      <th>0</th>\n",
       "      <td>18.0</td>\n",
       "      <td>8</td>\n",
       "      <td>307.0</td>\n",
       "      <td>130</td>\n",
       "      <td>3504</td>\n",
       "      <td>12.0</td>\n",
       "      <td>70</td>\n",
       "      <td>1</td>\n",
       "      <td>chevrolet chevelle malibu</td>\n",
       "    </tr>\n",
       "    <tr>\n",
       "      <th>1</th>\n",
       "      <td>15.0</td>\n",
       "      <td>8</td>\n",
       "      <td>350.0</td>\n",
       "      <td>165</td>\n",
       "      <td>3693</td>\n",
       "      <td>11.5</td>\n",
       "      <td>70</td>\n",
       "      <td>1</td>\n",
       "      <td>buick skylark 320</td>\n",
       "    </tr>\n",
       "    <tr>\n",
       "      <th>2</th>\n",
       "      <td>18.0</td>\n",
       "      <td>8</td>\n",
       "      <td>318.0</td>\n",
       "      <td>150</td>\n",
       "      <td>3436</td>\n",
       "      <td>11.0</td>\n",
       "      <td>70</td>\n",
       "      <td>1</td>\n",
       "      <td>plymouth satellite</td>\n",
       "    </tr>\n",
       "    <tr>\n",
       "      <th>3</th>\n",
       "      <td>16.0</td>\n",
       "      <td>8</td>\n",
       "      <td>304.0</td>\n",
       "      <td>150</td>\n",
       "      <td>3433</td>\n",
       "      <td>12.0</td>\n",
       "      <td>70</td>\n",
       "      <td>1</td>\n",
       "      <td>amc rebel sst</td>\n",
       "    </tr>\n",
       "    <tr>\n",
       "      <th>4</th>\n",
       "      <td>17.0</td>\n",
       "      <td>8</td>\n",
       "      <td>302.0</td>\n",
       "      <td>140</td>\n",
       "      <td>3449</td>\n",
       "      <td>10.5</td>\n",
       "      <td>70</td>\n",
       "      <td>1</td>\n",
       "      <td>ford torino</td>\n",
       "    </tr>\n",
       "  </tbody>\n",
       "</table>\n",
       "</div>"
      ],
      "text/plain": [
       "    mpg  cylinders  displacement horsepower  weight  acceleration  model year  \\\n",
       "0  18.0          8         307.0        130    3504          12.0          70   \n",
       "1  15.0          8         350.0        165    3693          11.5          70   \n",
       "2  18.0          8         318.0        150    3436          11.0          70   \n",
       "3  16.0          8         304.0        150    3433          12.0          70   \n",
       "4  17.0          8         302.0        140    3449          10.5          70   \n",
       "\n",
       "   origin                   car name  \n",
       "0       1  chevrolet chevelle malibu  \n",
       "1       1          buick skylark 320  \n",
       "2       1         plymouth satellite  \n",
       "3       1              amc rebel sst  \n",
       "4       1                ford torino  "
      ]
     },
     "execution_count": 2,
     "metadata": {},
     "output_type": "execute_result"
    }
   ],
   "source": [
    "#Read the auto-mpg dataset\n",
    "input_data = pd.read_csv(\"datasets/auto-mpg.csv\") \n",
    "input_data.head()"
   ]
  },
  {
   "cell_type": "markdown",
   "metadata": {},
   "source": [
    "### Develop an ML Model\n",
    "\n",
    "Developing an ML model involves a number of steps.\n",
    "\n",
    "Let us adopt the following Machine Learning Pipeline:\n",
    "\n",
    "1. Sanity Check\n",
    "2. EDA/Preprocessing\n",
    "3. Feature Engineering\n",
    "4. Model Building\n",
    "5. Model Saving\n",
    "6. Model Deployment\n",
    "\n",
    "Once the model is deployed, the pipeline extends to include the below steps:\n",
    "\n",
    "7. Model in Production\n",
    "8. Observe model behaviour\n",
    "9. Obtain updated datasets\n",
    "10. Redo steps 1..9 if required\n",
    "\n",
    "_Note: these extended steps are not covered in this exercise_\n"
   ]
  },
  {
   "cell_type": "markdown",
   "metadata": {},
   "source": [
    "## Sanity Check\n",
    "\n",
    "1. Shape and data sufficiency: Check if there are sufficient rows of data for an ML problem\n",
    "2. Datatypes: Check whether all the columns in the given dataset is numeric\n",
    "3. Missing Values: Check whether there are missing values\n",
    "4. Zero-variance: Check if there are any zero variance column in the dataset\n",
    "5. Range of numbers in each column: Check if the column values within the dataset are in the same magnitude\n",
    "6. Correlation: Check correlation between feature columns & target\n"
   ]
  },
  {
   "cell_type": "code",
   "execution_count": 3,
   "metadata": {},
   "outputs": [
    {
     "data": {
      "text/plain": [
       "(398, 9)"
      ]
     },
     "execution_count": 3,
     "metadata": {},
     "output_type": "execute_result"
    }
   ],
   "source": [
    "# 1 Shape\n",
    "input_data.shape"
   ]
  },
  {
   "cell_type": "code",
   "execution_count": 4,
   "metadata": {},
   "outputs": [
    {
     "data": {
      "text/plain": [
       "mpg             float64\n",
       "cylinders         int64\n",
       "displacement    float64\n",
       "horsepower       object\n",
       "weight            int64\n",
       "acceleration    float64\n",
       "model year        int64\n",
       "origin            int64\n",
       "car name         object\n",
       "dtype: object"
      ]
     },
     "execution_count": 4,
     "metadata": {},
     "output_type": "execute_result"
    }
   ],
   "source": [
    "# 2 Datatypes: \n",
    "input_data.dtypes"
   ]
  },
  {
   "cell_type": "code",
   "execution_count": 5,
   "metadata": {},
   "outputs": [
    {
     "name": "stdout",
     "output_type": "stream",
     "text": [
      "<class 'pandas.core.frame.DataFrame'>\n",
      "RangeIndex: 398 entries, 0 to 397\n",
      "Data columns (total 9 columns):\n",
      " #   Column        Non-Null Count  Dtype  \n",
      "---  ------        --------------  -----  \n",
      " 0   mpg           398 non-null    float64\n",
      " 1   cylinders     398 non-null    int64  \n",
      " 2   displacement  398 non-null    float64\n",
      " 3   horsepower    398 non-null    object \n",
      " 4   weight        398 non-null    int64  \n",
      " 5   acceleration  398 non-null    float64\n",
      " 6   model year    398 non-null    int64  \n",
      " 7   origin        398 non-null    int64  \n",
      " 8   car name      398 non-null    object \n",
      "dtypes: float64(3), int64(4), object(2)\n",
      "memory usage: 28.1+ KB\n"
     ]
    }
   ],
   "source": [
    "# 3 Missing Values: \n",
    "input_data.info()"
   ]
  },
  {
   "cell_type": "code",
   "execution_count": 6,
   "metadata": {},
   "outputs": [
    {
     "name": "stdout",
     "output_type": "stream",
     "text": [
      "mpg 129\n",
      "cylinders 5\n",
      "displacement 82\n",
      "horsepower 94\n",
      "weight 351\n",
      "acceleration 95\n",
      "model year 13\n",
      "origin 3\n",
      "car name 305\n"
     ]
    }
   ],
   "source": [
    "#4 zero variance column needs to be removed. \n",
    "for col in input_data:\n",
    "    print(col, input_data[col].value_counts().count())"
   ]
  },
  {
   "cell_type": "code",
   "execution_count": 7,
   "metadata": {},
   "outputs": [
    {
     "name": "stdout",
     "output_type": "stream",
     "text": [
      " Range of mpg min 9.0, max 46.6\n",
      " Range of cylinders min 3, max 8\n",
      " Range of displacement min 68.0, max 455.0\n",
      " Range of horsepower min 100, max ?\n",
      " Range of weight min 1613, max 5140\n",
      " Range of acceleration min 8.0, max 24.8\n",
      " Range of model year min 70, max 82\n",
      " Range of origin min 1, max 3\n",
      " Range of car name min amc ambassador brougham, max vw rabbit custom\n"
     ]
    }
   ],
   "source": [
    "#5 Range of numbers in each column: Check if the column values within the dataset are in the same magnitude\n",
    "for i in input_data.columns:\n",
    "    print(\" Range of {} min {}, max {}\" .format(i, min(input_data[i]), max(input_data[i])))"
   ]
  },
  {
   "cell_type": "code",
   "execution_count": 8,
   "metadata": {
    "scrolled": true
   },
   "outputs": [
    {
     "data": {
      "text/html": [
       "<div>\n",
       "<style scoped>\n",
       "    .dataframe tbody tr th:only-of-type {\n",
       "        vertical-align: middle;\n",
       "    }\n",
       "\n",
       "    .dataframe tbody tr th {\n",
       "        vertical-align: top;\n",
       "    }\n",
       "\n",
       "    .dataframe thead th {\n",
       "        text-align: right;\n",
       "    }\n",
       "</style>\n",
       "<table border=\"1\" class=\"dataframe\">\n",
       "  <thead>\n",
       "    <tr style=\"text-align: right;\">\n",
       "      <th></th>\n",
       "      <th>mpg</th>\n",
       "      <th>cylinders</th>\n",
       "      <th>displacement</th>\n",
       "      <th>weight</th>\n",
       "      <th>acceleration</th>\n",
       "      <th>model year</th>\n",
       "      <th>origin</th>\n",
       "    </tr>\n",
       "  </thead>\n",
       "  <tbody>\n",
       "    <tr>\n",
       "      <th>mpg</th>\n",
       "      <td>1.000000</td>\n",
       "      <td>-0.775396</td>\n",
       "      <td>-0.804203</td>\n",
       "      <td>-0.831741</td>\n",
       "      <td>0.420289</td>\n",
       "      <td>0.579267</td>\n",
       "      <td>0.563450</td>\n",
       "    </tr>\n",
       "    <tr>\n",
       "      <th>cylinders</th>\n",
       "      <td>-0.775396</td>\n",
       "      <td>1.000000</td>\n",
       "      <td>0.950721</td>\n",
       "      <td>0.896017</td>\n",
       "      <td>-0.505419</td>\n",
       "      <td>-0.348746</td>\n",
       "      <td>-0.562543</td>\n",
       "    </tr>\n",
       "    <tr>\n",
       "      <th>displacement</th>\n",
       "      <td>-0.804203</td>\n",
       "      <td>0.950721</td>\n",
       "      <td>1.000000</td>\n",
       "      <td>0.932824</td>\n",
       "      <td>-0.543684</td>\n",
       "      <td>-0.370164</td>\n",
       "      <td>-0.609409</td>\n",
       "    </tr>\n",
       "    <tr>\n",
       "      <th>weight</th>\n",
       "      <td>-0.831741</td>\n",
       "      <td>0.896017</td>\n",
       "      <td>0.932824</td>\n",
       "      <td>1.000000</td>\n",
       "      <td>-0.417457</td>\n",
       "      <td>-0.306564</td>\n",
       "      <td>-0.581024</td>\n",
       "    </tr>\n",
       "    <tr>\n",
       "      <th>acceleration</th>\n",
       "      <td>0.420289</td>\n",
       "      <td>-0.505419</td>\n",
       "      <td>-0.543684</td>\n",
       "      <td>-0.417457</td>\n",
       "      <td>1.000000</td>\n",
       "      <td>0.288137</td>\n",
       "      <td>0.205873</td>\n",
       "    </tr>\n",
       "    <tr>\n",
       "      <th>model year</th>\n",
       "      <td>0.579267</td>\n",
       "      <td>-0.348746</td>\n",
       "      <td>-0.370164</td>\n",
       "      <td>-0.306564</td>\n",
       "      <td>0.288137</td>\n",
       "      <td>1.000000</td>\n",
       "      <td>0.180662</td>\n",
       "    </tr>\n",
       "    <tr>\n",
       "      <th>origin</th>\n",
       "      <td>0.563450</td>\n",
       "      <td>-0.562543</td>\n",
       "      <td>-0.609409</td>\n",
       "      <td>-0.581024</td>\n",
       "      <td>0.205873</td>\n",
       "      <td>0.180662</td>\n",
       "      <td>1.000000</td>\n",
       "    </tr>\n",
       "  </tbody>\n",
       "</table>\n",
       "</div>"
      ],
      "text/plain": [
       "                   mpg  cylinders  displacement    weight  acceleration  \\\n",
       "mpg           1.000000  -0.775396     -0.804203 -0.831741      0.420289   \n",
       "cylinders    -0.775396   1.000000      0.950721  0.896017     -0.505419   \n",
       "displacement -0.804203   0.950721      1.000000  0.932824     -0.543684   \n",
       "weight       -0.831741   0.896017      0.932824  1.000000     -0.417457   \n",
       "acceleration  0.420289  -0.505419     -0.543684 -0.417457      1.000000   \n",
       "model year    0.579267  -0.348746     -0.370164 -0.306564      0.288137   \n",
       "origin        0.563450  -0.562543     -0.609409 -0.581024      0.205873   \n",
       "\n",
       "              model year    origin  \n",
       "mpg             0.579267  0.563450  \n",
       "cylinders      -0.348746 -0.562543  \n",
       "displacement   -0.370164 -0.609409  \n",
       "weight         -0.306564 -0.581024  \n",
       "acceleration    0.288137  0.205873  \n",
       "model year      1.000000  0.180662  \n",
       "origin          0.180662  1.000000  "
      ]
     },
     "execution_count": 8,
     "metadata": {},
     "output_type": "execute_result"
    }
   ],
   "source": [
    "# 6 Relationship between features & the target\n",
    "input_data.corr()"
   ]
  },
  {
   "cell_type": "code",
   "execution_count": 9,
   "metadata": {},
   "outputs": [
    {
     "data": {
      "image/png": "[encoded data removed]",
      "text/plain": [
       "<Figure size 1152x432 with 2 Axes>"
      ]
     },
     "metadata": {
      "needs_background": "light"
     },
     "output_type": "display_data"
    }
   ],
   "source": [
    "plt.figure(figsize=(16, 6))\n",
    "sns.heatmap(input_data.corr(), annot=True);"
   ]
  },
  {
   "cell_type": "markdown",
   "metadata": {},
   "source": [
    "### Insights / Sanity Check Conclusions¶"
   ]
  },
  {
   "cell_type": "markdown",
   "metadata": {},
   "source": [
    "1. **Shape and data sufficiency: Check if there are sufficient rows of data for an ML problem**\n",
    "    1. **INSIGHT:** Shape of the data is (399, 9). i.e., dataset contains ~400 observations, which is much greater than number of columns (9). Hence we can apply ML techniques rather than statistical rule-based approach.\n",
    "    \n",
    "2. **Datatypes: Check whether all the columns in the given dataset is numeric**\n",
    "    1. **INSIGHT:** `Dtype` indicates that all columns except horsepower are numeric, in order to build an ML model we need to convert horsepower to numeric\n",
    "    \n",
    "3. **Missing Values: Check whether there are missing values**\n",
    "    1. **INSIGHT:** `Non-Null Count` indicates there are no missing values in the dataset\n",
    "\n",
    "4. **Zero-variance: Check if there are any zero variance column in the dataset**\n",
    "    1. **INSIGHT:** No zero-variance columns found in the dataset\n",
    "\n",
    "5. **Range of numbers in each column: Check if the column values within the dataset are in the same magnitude**\n",
    "    1. **INSIGHT:** Each column has numbers within the same magnitude\n",
    "    \n",
    "6. **Correlation: Check correlation between feature columns & target**\n",
    "    1. **INSIGHT:**  0.00 - 0.20 very weak correlation. No features exists\n",
    "    2. **INSIGHT:**  0.20 - 0.40 have weak correlation. No features exists\n",
    "    3. **INSIGHT:**  0.40 - 0.60 have Good Correlation - `acceleration`, `model year`, `origin`\n",
    "    4. **INSIGHT:**  0.60 - 0.80 Strong correlation - `cylinder`, `displacement`, `horse power`\n",
    "    5. **INSIGHT:**  0.80 - 1.0 very strong correlation - `weight` \n",
    "\n",
    "***Note:*** *absolute values of correlations were considered*\n",
    "\n",
    "Conclusions are drawn after plotting the features against target using  heatmap & scatter plot"
   ]
  },
  {
   "cell_type": "markdown",
   "metadata": {},
   "source": [
    "### EDA/Preprocessing\n",
    "_(Based on the insights from the sanity check, we can now determine how to process the data.)_"
   ]
  },
  {
   "cell_type": "markdown",
   "metadata": {},
   "source": [
    "#### Checklist of STANDARD EDA items\n",
    "\n",
    "1. Strategy for missing data\n",
    "    1. Action: convert horsepower to numeric\n",
    "    2. Action: horsepower has six missing values, drop these rows\n",
    "    \n",
    "    \n",
    "2. Convert categorical to numeric\n",
    "    1. origin, cylinders, model year are categorical but already numeric\n",
    "    \n",
    "    \n",
    "3. Dimensionality reduction/Drop the identified columns\n",
    "    1. Action: Drop the carname column \n",
    "    \n",
    "    \n",
    "4. Check for Outliers, Normalize data in columns to fit a range (*Optional*)\n",
    "    1. Action: As per Insights 5A there are no Outliers ----NOT DONE\n",
    "\n",
    "\n",
    "### Approach:\n",
    "As there is a strong correlation between features and target we will consider all the 7 numeric columns to build our ML model"
   ]
  },
  {
   "cell_type": "code",
   "execution_count": 10,
   "metadata": {},
   "outputs": [
    {
     "data": {
      "text/plain": [
       "mpg             float64\n",
       "cylinders         int64\n",
       "displacement    float64\n",
       "horsepower      float64\n",
       "weight            int64\n",
       "acceleration    float64\n",
       "model year        int64\n",
       "origin            int64\n",
       "car name         object\n",
       "dtype: object"
      ]
     },
     "execution_count": 10,
     "metadata": {},
     "output_type": "execute_result"
    }
   ],
   "source": [
    "#    1. Action: convert horsepower to numeric\n",
    "for column in ['horsepower']:\n",
    "    input_data[column] = pd.to_numeric(input_data[column], errors = 'coerce')\n",
    "\n",
    "# Dropping invalid rows in horsepower column, it can either done using df.attribute or df['attribute']\n",
    "#    2. Action: horsepower has six missing values, drop these rows\n",
    "input_data.dropna(axis = 0,inplace = True)\n",
    "\n",
    "input_data.dtypes"
   ]
  },
  {
   "cell_type": "code",
   "execution_count": 11,
   "metadata": {},
   "outputs": [],
   "source": [
    "# car_name column does not have any impact on the target column\n",
    "# Drop the carname column\n",
    "input_data.drop(['car name'], axis = 1, inplace = True)\n"
   ]
  },
  {
   "cell_type": "code",
   "execution_count": 12,
   "metadata": {},
   "outputs": [],
   "source": [
    "X = input_data.drop('mpg',axis=1)\n",
    "y = input_data['mpg']"
   ]
  },
  {
   "cell_type": "code",
   "execution_count": 13,
   "metadata": {},
   "outputs": [
    {
     "name": "stdout",
     "output_type": "stream",
     "text": [
      "[[ 1.48394702  1.07728956  0.66413273 ... -1.285258   -1.62531533\n",
      "  -0.71664105]\n",
      " [ 1.48394702  1.48873169  1.57459447 ... -1.46672362 -1.62531533\n",
      "  -0.71664105]\n",
      " [ 1.48394702  1.1825422   1.18439658 ... -1.64818924 -1.62531533\n",
      "  -0.71664105]\n",
      " ...\n",
      " [-0.86401356 -0.56847897 -0.53247413 ... -1.4304305   1.63640964\n",
      "  -0.71664105]\n",
      " [-0.86401356 -0.7120053  -0.66254009 ...  1.11008813  1.63640964\n",
      "  -0.71664105]\n",
      " [-0.86401356 -0.72157372 -0.58450051 ...  1.40043312  1.63640964\n",
      "  -0.71664105]]\n"
     ]
    }
   ],
   "source": [
    "#Feature Scaling\n",
    "from sklearn.preprocessing import StandardScaler\n",
    "object = StandardScaler()\n",
    "X = object.fit_transform(X)\n",
    "print(X)"
   ]
  },
  {
   "cell_type": "markdown",
   "metadata": {},
   "source": [
    "# LINEAR REGRESSION"
   ]
  },
  {
   "cell_type": "markdown",
   "metadata": {},
   "source": [
    "#### Step 1:\n",
    "Build the ML model with the complete data, test and validate the predictions."
   ]
  },
  {
   "cell_type": "code",
   "execution_count": 14,
   "metadata": {},
   "outputs": [],
   "source": [
    "from sklearn.linear_model import LinearRegression\n"
   ]
  },
  {
   "cell_type": "code",
   "execution_count": 15,
   "metadata": {},
   "outputs": [
    {
     "name": "stdout",
     "output_type": "stream",
     "text": [
      "(313, 7) (79, 7) (313,) (79,)\n"
     ]
    }
   ],
   "source": [
    "from sklearn.model_selection import train_test_split\n",
    "X_train, X_test, y_train, y_test = train_test_split(X, y, test_size=0.2, random_state=42)\n",
    "print(X_train.shape, X_test.shape, y_train.shape, y_test.shape)"
   ]
  },
  {
   "cell_type": "code",
   "execution_count": 16,
   "metadata": {},
   "outputs": [
    {
     "name": "stdout",
     "output_type": "stream",
     "text": [
      "\n",
      "first 20 training preds:\n",
      "\n",
      " [26, 26, 35, 25, 28, 31, 9, 31, 21, 29, 13, 25, 17, 30, 22, 29, 20, 33, 27, 30]\n"
     ]
    }
   ],
   "source": [
    "# create and fit a linear regression model\n",
    "lm_input_data = LinearRegression()\n",
    "auto_mpg_model = lm_input_data.fit(X_train, y_train)\n",
    "\n",
    "yhat = auto_mpg_model.predict(X_test)\n",
    "\n",
    "# computing yhat (ie train_predictions) using X (ie train_features)\n",
    "train_predictions = auto_mpg_model.predict(X_test)\n",
    "train_prediction = [int(round(x,0)) for x in train_predictions]\n",
    "print('\\nfirst 20 training preds:\\n\\n', train_prediction[:20])"
   ]
  },
  {
   "cell_type": "code",
   "execution_count": 17,
   "metadata": {},
   "outputs": [],
   "source": [
    "# simple function to compare actual and predicted values\n",
    "def compare_prediction(y, yhat):\n",
    "    comp_matrix = pd.DataFrame(zip(y, yhat), columns = ['Actual', 'Predicted'])\n",
    "    comp_matrix['Err'] = abs(comp_matrix['Actual']-comp_matrix['Predicted'])\n",
    "    comp_matrix['PctErr'] = comp_matrix['Err']/comp_matrix['Actual'] * 100\n",
    "    mean_value = np.mean(comp_matrix['PctErr'])\n",
    "    return comp_matrix, mean_value"
   ]
  },
  {
   "cell_type": "code",
   "execution_count": 18,
   "metadata": {},
   "outputs": [
    {
     "name": "stdout",
     "output_type": "stream",
     "text": [
      "Model 1 prediction comparison and mean error:     Actual  Predicted       Err     PctErr\n",
      "0     26.0  25.841562  0.158438   0.609379\n",
      "1     21.6  26.036745  4.436745  20.540484\n",
      "2     36.1  34.506018  1.593982   4.415462\n",
      "3     26.0  24.895532  1.104468   4.247954\n",
      "4     27.0  28.425987  1.425987   5.281434\n",
      "..     ...        ...       ...        ...\n",
      "74    17.6  24.164562  6.564562  37.298648\n",
      "75    28.0  24.063693  3.936307  14.058238\n",
      "76    15.0  14.015525  0.984475   6.563167\n",
      "77    16.0  14.858753  1.141247   7.132797\n",
      "78    27.0  25.759440  1.240560   4.594667\n",
      "\n",
      "[79 rows x 4 columns] 11.789209476960911\n",
      "Model1 accuracy = 88.21\n"
     ]
    }
   ],
   "source": [
    "# compare actual and predicted values\n",
    "comp_matrix, mean = compare_prediction(y_test, yhat)\n",
    "print(\"Model 1 prediction comparison and mean error:\", comp_matrix, mean)\n",
    "accuracy1 = round((100-mean),2)\n",
    "print('Model1 accuracy =', accuracy1)"
   ]
  },
  {
   "cell_type": "code",
   "execution_count": 19,
   "metadata": {},
   "outputs": [
    {
     "name": "stdout",
     "output_type": "stream",
     "text": [
      "Mean Squared Error : 10.710864418838401, Root Mean Squared Error : 3.272745700300957\n",
      "Mean Squared Error : 10 Root Mean Squared Error : 3\n"
     ]
    }
   ],
   "source": [
    "import math\n",
    "# metrics to chech effectivemess  is MSE and RMSE\n",
    "from sklearn.metrics import mean_squared_error\n",
    "MSE = mean_squared_error(y_test, yhat)\n",
    "RMSE = math.sqrt(MSE)\n",
    "print(f'Mean Squared Error : {MSE}, Root Mean Squared Error : {RMSE}')\n",
    "print('Mean Squared Error : %d' %MSE, 'Root Mean Squared Error : %d'%RMSE)"
   ]
  },
  {
   "cell_type": "code",
   "execution_count": 20,
   "metadata": {},
   "outputs": [],
   "source": [
    "# save auto_mpg_model as per analysis\n",
    "model_file = open('models/linear_auto_mpg_model.pkl','wb')\n",
    "pickle.dump(auto_mpg_model, model_file)\n",
    "model_file.close()"
   ]
  },
  {
   "cell_type": "code",
   "execution_count": 21,
   "metadata": {},
   "outputs": [
    {
     "name": "stdout",
     "output_type": "stream",
     "text": [
      "LinearRegression()\n"
     ]
    }
   ],
   "source": [
    "# reload the model from disk and check if it is saved properly.\n",
    "model_file = open('models/linear_auto_mpg_model.pkl', 'rb')\n",
    "lr_model = pickle.load(model_file)\n",
    "model_file.close()\n",
    "print(lr_model)"
   ]
  },
  {
   "cell_type": "markdown",
   "metadata": {},
   "source": [
    "# LOGISTIC REGRESSION"
   ]
  },
  {
   "cell_type": "code",
   "execution_count": 22,
   "metadata": {},
   "outputs": [
    {
     "data": {
      "text/plain": [
       "(9.0, 46.6)"
      ]
     },
     "execution_count": 22,
     "metadata": {},
     "output_type": "execute_result"
    }
   ],
   "source": [
    "y.min(), y.max()"
   ]
  },
  {
   "cell_type": "code",
   "execution_count": 23,
   "metadata": {},
   "outputs": [],
   "source": [
    "input_data['mpg-bin'] = pd.qcut(input_data['mpg'], q=5)\n",
    "X = input_data.drop(['mpg','mpg-bin'],axis=1)\n",
    "y = input_data['mpg-bin']\n"
   ]
  },
  {
   "cell_type": "code",
   "execution_count": 24,
   "metadata": {},
   "outputs": [
    {
     "data": {
      "text/plain": [
       "0       (16.0, 20.0]\n",
       "1      (8.999, 16.0]\n",
       "2       (16.0, 20.0]\n",
       "3      (8.999, 16.0]\n",
       "4       (16.0, 20.0]\n",
       "           ...      \n",
       "393    (25.0, 30.98]\n",
       "394    (30.98, 46.6]\n",
       "395    (30.98, 46.6]\n",
       "396    (25.0, 30.98]\n",
       "397    (30.98, 46.6]\n",
       "Name: mpg-bin, Length: 392, dtype: category\n",
       "Categories (5, interval[float64]): [(8.999, 16.0] < (16.0, 20.0] < (20.0, 25.0] < (25.0, 30.98] < (30.98, 46.6]]"
      ]
     },
     "execution_count": 24,
     "metadata": {},
     "output_type": "execute_result"
    }
   ],
   "source": [
    "y\n",
    "\n"
   ]
  },
  {
   "cell_type": "code",
   "execution_count": 25,
   "metadata": {},
   "outputs": [
    {
     "name": "stdout",
     "output_type": "stream",
     "text": [
      "[1 0 1 0 1 0 0 0 0 0 0 0 0 0 2 2 1 2 3 3 2 2 2 3 2 0 0 0 0 3 3 2 1 0 1 1 1\n",
      " 0 0 0 0 0 0 0 1 2 1 1 2 3 3 3 4 4 3 3 2 2 2 1 2 0 0 0 0 1 0 0 0 0 1 0 0 0\n",
      " 0 1 2 2 3 2 3 2 3 3 0 0 0 0 0 0 0 0 0 0 0 0 1 0 1 1 2 3 0 0 0 0 1 1 2 2 1\n",
      " 1 2 3 0 0 3 2 1 1 0 2 1 0 1 1 0 4 3 4 2 0 0 1 0 0 0 0 0 3 3 3 4 4 3 2 3 2\n",
      " 3 4 1 1 0 0 0 0 0 0 1 0 0 1 2 1 0 3 2 1 2 2 2 2 1 3 1 2 2 2 2 4 3 2 2 3 3\n",
      " 1 0 0 0 2 2 2 2 3 2 3 4 1 1 1 1 3 4 3 3 1 0 1 1 1 1 0 0 0 4 3 4 3 4 1 1 0\n",
      " 0 1 2 1 1 0 0 0 0 3 2 3 3 3 4 3 3 2 2 2 4 4 4 4 4 1 1 2 1 2 2 3 2 1 2 2 1\n",
      " 1 1 1 1 1 3 3 3 3 2 2 2 2 2 1 2 1 4 3 2 1 2 2 2 1 1 1 1 1 0 1 1 4 4 4 3 3\n",
      " 2 3 2 4 4 4 4 3 3 3 4 4 4 4 4 3 3 2 1 4 3 4 4 4 4 3 4 4 4 4 3 4 4 3 4 2 4\n",
      " 4 3 3 3 2 3 4 4 4 4 4 4 4 4 4 3 4 4 4 4 4 3 3 3 2 2 3 2 1 3 3 4 4 3 3 2 4\n",
      " 4 4 4 4 4 4 4 4 4 4 2 4 3 2 4 4 3 3 4 4 3 4]\n"
     ]
    }
   ],
   "source": [
    "from sklearn import preprocessing \n",
    "label = preprocessing.LabelEncoder() \n",
    " \n",
    "y= label.fit_transform(y) \n",
    "print(y)\n"
   ]
  },
  {
   "cell_type": "code",
   "execution_count": 26,
   "metadata": {
    "scrolled": true
   },
   "outputs": [
    {
     "name": "stdout",
     "output_type": "stream",
     "text": [
      "(313, 7) (79, 7) (313,) (79,)\n"
     ]
    }
   ],
   "source": [
    "from sklearn.model_selection import train_test_split\n",
    "X_train, X_test, y_train, y_test = train_test_split(X, y, test_size=0.2, random_state=42)\n",
    "print(X_train.shape, X_test.shape, y_train.shape, y_test.shape)"
   ]
  },
  {
   "cell_type": "code",
   "execution_count": 27,
   "metadata": {},
   "outputs": [
    {
     "name": "stderr",
     "output_type": "stream",
     "text": [
      "C:\\Users\\saicb\\anaconda3\\lib\\site-packages\\sklearn\\linear_model\\_logistic.py:762: ConvergenceWarning: lbfgs failed to converge (status=1):\n",
      "STOP: TOTAL NO. of ITERATIONS REACHED LIMIT.\n",
      "\n",
      "Increase the number of iterations (max_iter) or scale the data as shown in:\n",
      "    https://scikit-learn.org/stable/modules/preprocessing.html\n",
      "Please also refer to the documentation for alternative solver options:\n",
      "    https://scikit-learn.org/stable/modules/linear_model.html#logistic-regression\n",
      "  n_iter_i = _check_optimize_result(\n"
     ]
    },
    {
     "data": {
      "text/plain": [
       "array([4, 2, 4, 4, 3, 4, 0, 4, 1, 4, 0, 2, 0, 4, 2, 3, 1, 4, 3, 3, 1, 4,\n",
       "       4, 0, 4, 3, 2, 1, 4, 3, 0, 1, 1, 3, 0, 4, 0, 3, 0, 0, 0, 4, 4, 3,\n",
       "       0, 0, 1, 4, 3, 4, 0, 3, 2, 4, 1, 1, 1, 1, 3, 3, 0, 1, 2, 3, 3, 3,\n",
       "       3, 4, 1, 0, 3, 0, 2, 4, 1, 3, 0, 0, 3])"
      ]
     },
     "execution_count": 27,
     "metadata": {},
     "output_type": "execute_result"
    }
   ],
   "source": [
    "from sklearn.linear_model import LogisticRegression  \n",
    "# create and fit a logistic regression model\n",
    "\n",
    "lm_input_data = LogisticRegression(multi_class='multinomial', random_state=0)  \n",
    "auto_mpg_model = lm_input_data.fit(X_train, y_train)  \n",
    "\n",
    "# computing yhat (ie train_predictions) using X (ie train_features)\n",
    "train_predictions =lm_input_data.predict(X_train)\n",
    "\n",
    " #Predicting the test set result \n",
    "y_pred= auto_mpg_model.predict(X_test)  \n",
    "y_pred\n"
   ]
  },
  {
   "cell_type": "code",
   "execution_count": 28,
   "metadata": {},
   "outputs": [
    {
     "data": {
      "text/html": [
       "<div>\n",
       "<style scoped>\n",
       "    .dataframe tbody tr th:only-of-type {\n",
       "        vertical-align: middle;\n",
       "    }\n",
       "\n",
       "    .dataframe tbody tr th {\n",
       "        vertical-align: top;\n",
       "    }\n",
       "\n",
       "    .dataframe thead th {\n",
       "        text-align: right;\n",
       "    }\n",
       "</style>\n",
       "<table border=\"1\" class=\"dataframe\">\n",
       "  <thead>\n",
       "    <tr style=\"text-align: right;\">\n",
       "      <th></th>\n",
       "      <th>0</th>\n",
       "      <th>1</th>\n",
       "      <th>2</th>\n",
       "      <th>3</th>\n",
       "      <th>4</th>\n",
       "    </tr>\n",
       "  </thead>\n",
       "  <tbody>\n",
       "    <tr>\n",
       "      <th>0</th>\n",
       "      <td>16</td>\n",
       "      <td>2</td>\n",
       "      <td>0</td>\n",
       "      <td>0</td>\n",
       "      <td>0</td>\n",
       "    </tr>\n",
       "    <tr>\n",
       "      <th>1</th>\n",
       "      <td>2</td>\n",
       "      <td>9</td>\n",
       "      <td>2</td>\n",
       "      <td>0</td>\n",
       "      <td>1</td>\n",
       "    </tr>\n",
       "    <tr>\n",
       "      <th>2</th>\n",
       "      <td>0</td>\n",
       "      <td>3</td>\n",
       "      <td>3</td>\n",
       "      <td>10</td>\n",
       "      <td>1</td>\n",
       "    </tr>\n",
       "    <tr>\n",
       "      <th>3</th>\n",
       "      <td>0</td>\n",
       "      <td>0</td>\n",
       "      <td>2</td>\n",
       "      <td>8</td>\n",
       "      <td>10</td>\n",
       "    </tr>\n",
       "    <tr>\n",
       "      <th>4</th>\n",
       "      <td>0</td>\n",
       "      <td>0</td>\n",
       "      <td>0</td>\n",
       "      <td>2</td>\n",
       "      <td>8</td>\n",
       "    </tr>\n",
       "  </tbody>\n",
       "</table>\n",
       "</div>"
      ],
      "text/plain": [
       "    0  1  2   3   4\n",
       "0  16  2  0   0   0\n",
       "1   2  9  2   0   1\n",
       "2   0  3  3  10   1\n",
       "3   0  0  2   8  10\n",
       "4   0  0  0   2   8"
      ]
     },
     "execution_count": 28,
     "metadata": {},
     "output_type": "execute_result"
    }
   ],
   "source": [
    "#Creating the Confusion matrix  \n",
    "from sklearn.metrics import confusion_matrix  \n",
    "cm= confusion_matrix(y_test,y_pred)  \n",
    "coords = [x for x in range(0,5)]\n",
    "cm = pd.DataFrame(cm,columns=coords, index=coords )\n",
    "cm"
   ]
  },
  {
   "cell_type": "code",
   "execution_count": 29,
   "metadata": {},
   "outputs": [
    {
     "data": {
      "text/html": [
       "<div>\n",
       "<style scoped>\n",
       "    .dataframe tbody tr th:only-of-type {\n",
       "        vertical-align: middle;\n",
       "    }\n",
       "\n",
       "    .dataframe tbody tr th {\n",
       "        vertical-align: top;\n",
       "    }\n",
       "\n",
       "    .dataframe thead th {\n",
       "        text-align: right;\n",
       "    }\n",
       "</style>\n",
       "<table border=\"1\" class=\"dataframe\">\n",
       "  <thead>\n",
       "    <tr style=\"text-align: right;\">\n",
       "      <th></th>\n",
       "      <th>0</th>\n",
       "      <th>1</th>\n",
       "      <th>2</th>\n",
       "      <th>3</th>\n",
       "      <th>4</th>\n",
       "    </tr>\n",
       "  </thead>\n",
       "  <tbody>\n",
       "    <tr>\n",
       "      <th>0</th>\n",
       "      <td>0.001805</td>\n",
       "      <td>0.053941</td>\n",
       "      <td>0.133231</td>\n",
       "      <td>0.365313</td>\n",
       "      <td>4.457097e-01</td>\n",
       "    </tr>\n",
       "    <tr>\n",
       "      <th>1</th>\n",
       "      <td>0.011738</td>\n",
       "      <td>0.154445</td>\n",
       "      <td>0.479543</td>\n",
       "      <td>0.322855</td>\n",
       "      <td>3.141795e-02</td>\n",
       "    </tr>\n",
       "    <tr>\n",
       "      <th>2</th>\n",
       "      <td>0.000042</td>\n",
       "      <td>0.005375</td>\n",
       "      <td>0.015970</td>\n",
       "      <td>0.098186</td>\n",
       "      <td>8.804272e-01</td>\n",
       "    </tr>\n",
       "    <tr>\n",
       "      <th>3</th>\n",
       "      <td>0.000730</td>\n",
       "      <td>0.033921</td>\n",
       "      <td>0.093723</td>\n",
       "      <td>0.275945</td>\n",
       "      <td>5.956811e-01</td>\n",
       "    </tr>\n",
       "    <tr>\n",
       "      <th>4</th>\n",
       "      <td>0.007214</td>\n",
       "      <td>0.147523</td>\n",
       "      <td>0.292632</td>\n",
       "      <td>0.481544</td>\n",
       "      <td>7.108641e-02</td>\n",
       "    </tr>\n",
       "    <tr>\n",
       "      <th>5</th>\n",
       "      <td>0.000758</td>\n",
       "      <td>0.035776</td>\n",
       "      <td>0.103012</td>\n",
       "      <td>0.302495</td>\n",
       "      <td>5.579583e-01</td>\n",
       "    </tr>\n",
       "    <tr>\n",
       "      <th>6</th>\n",
       "      <td>0.960870</td>\n",
       "      <td>0.034493</td>\n",
       "      <td>0.004622</td>\n",
       "      <td>0.000015</td>\n",
       "      <td>3.629670e-14</td>\n",
       "    </tr>\n",
       "    <tr>\n",
       "      <th>7</th>\n",
       "      <td>0.000813</td>\n",
       "      <td>0.035649</td>\n",
       "      <td>0.102782</td>\n",
       "      <td>0.313418</td>\n",
       "      <td>5.473381e-01</td>\n",
       "    </tr>\n",
       "    <tr>\n",
       "      <th>8</th>\n",
       "      <td>0.167599</td>\n",
       "      <td>0.450560</td>\n",
       "      <td>0.289900</td>\n",
       "      <td>0.091887</td>\n",
       "      <td>5.377341e-05</td>\n",
       "    </tr>\n",
       "    <tr>\n",
       "      <th>9</th>\n",
       "      <td>0.000039</td>\n",
       "      <td>0.002983</td>\n",
       "      <td>0.008925</td>\n",
       "      <td>0.067862</td>\n",
       "      <td>9.201917e-01</td>\n",
       "    </tr>\n",
       "  </tbody>\n",
       "</table>\n",
       "</div>"
      ],
      "text/plain": [
       "          0         1         2         3             4\n",
       "0  0.001805  0.053941  0.133231  0.365313  4.457097e-01\n",
       "1  0.011738  0.154445  0.479543  0.322855  3.141795e-02\n",
       "2  0.000042  0.005375  0.015970  0.098186  8.804272e-01\n",
       "3  0.000730  0.033921  0.093723  0.275945  5.956811e-01\n",
       "4  0.007214  0.147523  0.292632  0.481544  7.108641e-02\n",
       "5  0.000758  0.035776  0.103012  0.302495  5.579583e-01\n",
       "6  0.960870  0.034493  0.004622  0.000015  3.629670e-14\n",
       "7  0.000813  0.035649  0.102782  0.313418  5.473381e-01\n",
       "8  0.167599  0.450560  0.289900  0.091887  5.377341e-05\n",
       "9  0.000039  0.002983  0.008925  0.067862  9.201917e-01"
      ]
     },
     "execution_count": 29,
     "metadata": {},
     "output_type": "execute_result"
    }
   ],
   "source": [
    "probs_arr = auto_mpg_model.predict_proba(X_test)\n",
    "probs_df = pd.DataFrame(probs_arr, columns=coords)\n",
    "probs_df.head(10)"
   ]
  },
  {
   "cell_type": "code",
   "execution_count": 30,
   "metadata": {},
   "outputs": [],
   "source": [
    "y_pred_proba = probs_df.idxmax(axis=1)"
   ]
  },
  {
   "cell_type": "code",
   "execution_count": 31,
   "metadata": {},
   "outputs": [
    {
     "name": "stdout",
     "output_type": "stream",
     "text": [
      "Test Accuracy Score 0.5569620253164557\n"
     ]
    }
   ],
   "source": [
    "score = auto_mpg_model.score(X_test, y_test)\n",
    "print('Test Accuracy Score', score)"
   ]
  },
  {
   "cell_type": "code",
   "execution_count": 32,
   "metadata": {},
   "outputs": [
    {
     "name": "stdout",
     "output_type": "stream",
     "text": [
      "Cross-Validation Accuracy Scores 0.6135225885225886\n"
     ]
    },
    {
     "name": "stderr",
     "output_type": "stream",
     "text": [
      "C:\\Users\\saicb\\anaconda3\\lib\\site-packages\\sklearn\\linear_model\\_logistic.py:762: ConvergenceWarning: lbfgs failed to converge (status=1):\n",
      "STOP: TOTAL NO. of ITERATIONS REACHED LIMIT.\n",
      "\n",
      "Increase the number of iterations (max_iter) or scale the data as shown in:\n",
      "    https://scikit-learn.org/stable/modules/preprocessing.html\n",
      "Please also refer to the documentation for alternative solver options:\n",
      "    https://scikit-learn.org/stable/modules/linear_model.html#logistic-regression\n",
      "  n_iter_i = _check_optimize_result(\n",
      "C:\\Users\\saicb\\anaconda3\\lib\\site-packages\\sklearn\\linear_model\\_logistic.py:762: ConvergenceWarning: lbfgs failed to converge (status=1):\n",
      "STOP: TOTAL NO. of ITERATIONS REACHED LIMIT.\n",
      "\n",
      "Increase the number of iterations (max_iter) or scale the data as shown in:\n",
      "    https://scikit-learn.org/stable/modules/preprocessing.html\n",
      "Please also refer to the documentation for alternative solver options:\n",
      "    https://scikit-learn.org/stable/modules/linear_model.html#logistic-regression\n",
      "  n_iter_i = _check_optimize_result(\n",
      "C:\\Users\\saicb\\anaconda3\\lib\\site-packages\\sklearn\\linear_model\\_logistic.py:762: ConvergenceWarning: lbfgs failed to converge (status=1):\n",
      "STOP: TOTAL NO. of ITERATIONS REACHED LIMIT.\n",
      "\n",
      "Increase the number of iterations (max_iter) or scale the data as shown in:\n",
      "    https://scikit-learn.org/stable/modules/preprocessing.html\n",
      "Please also refer to the documentation for alternative solver options:\n",
      "    https://scikit-learn.org/stable/modules/linear_model.html#logistic-regression\n",
      "  n_iter_i = _check_optimize_result(\n"
     ]
    }
   ],
   "source": [
    "from sklearn.model_selection import cross_val_score\n",
    "from sklearn.model_selection import train_test_split, KFold\n",
    "\n",
    "scores = cross_val_score(auto_mpg_model, X_train, y_train, cv=3)\n",
    "print('Cross-Validation Accuracy Scores', scores.mean())"
   ]
  },
  {
   "cell_type": "code",
   "execution_count": 33,
   "metadata": {},
   "outputs": [
    {
     "name": "stderr",
     "output_type": "stream",
     "text": [
      "C:\\Users\\saicb\\anaconda3\\lib\\site-packages\\sklearn\\linear_model\\_logistic.py:762: ConvergenceWarning: lbfgs failed to converge (status=1):\n",
      "STOP: TOTAL NO. of ITERATIONS REACHED LIMIT.\n",
      "\n",
      "Increase the number of iterations (max_iter) or scale the data as shown in:\n",
      "    https://scikit-learn.org/stable/modules/preprocessing.html\n",
      "Please also refer to the documentation for alternative solver options:\n",
      "    https://scikit-learn.org/stable/modules/linear_model.html#logistic-regression\n",
      "  n_iter_i = _check_optimize_result(\n"
     ]
    },
    {
     "name": "stdout",
     "output_type": "stream",
     "text": [
      "[0.65822785 0.65822785 0.58974359 0.53846154 0.42307692]\n",
      "Accuracy: 57.35475494969165\n"
     ]
    },
    {
     "name": "stderr",
     "output_type": "stream",
     "text": [
      "C:\\Users\\saicb\\anaconda3\\lib\\site-packages\\sklearn\\linear_model\\_logistic.py:762: ConvergenceWarning: lbfgs failed to converge (status=1):\n",
      "STOP: TOTAL NO. of ITERATIONS REACHED LIMIT.\n",
      "\n",
      "Increase the number of iterations (max_iter) or scale the data as shown in:\n",
      "    https://scikit-learn.org/stable/modules/preprocessing.html\n",
      "Please also refer to the documentation for alternative solver options:\n",
      "    https://scikit-learn.org/stable/modules/linear_model.html#logistic-regression\n",
      "  n_iter_i = _check_optimize_result(\n",
      "C:\\Users\\saicb\\anaconda3\\lib\\site-packages\\sklearn\\linear_model\\_logistic.py:762: ConvergenceWarning: lbfgs failed to converge (status=1):\n",
      "STOP: TOTAL NO. of ITERATIONS REACHED LIMIT.\n",
      "\n",
      "Increase the number of iterations (max_iter) or scale the data as shown in:\n",
      "    https://scikit-learn.org/stable/modules/preprocessing.html\n",
      "Please also refer to the documentation for alternative solver options:\n",
      "    https://scikit-learn.org/stable/modules/linear_model.html#logistic-regression\n",
      "  n_iter_i = _check_optimize_result(\n",
      "C:\\Users\\saicb\\anaconda3\\lib\\site-packages\\sklearn\\linear_model\\_logistic.py:762: ConvergenceWarning: lbfgs failed to converge (status=1):\n",
      "STOP: TOTAL NO. of ITERATIONS REACHED LIMIT.\n",
      "\n",
      "Increase the number of iterations (max_iter) or scale the data as shown in:\n",
      "    https://scikit-learn.org/stable/modules/preprocessing.html\n",
      "Please also refer to the documentation for alternative solver options:\n",
      "    https://scikit-learn.org/stable/modules/linear_model.html#logistic-regression\n",
      "  n_iter_i = _check_optimize_result(\n",
      "C:\\Users\\saicb\\anaconda3\\lib\\site-packages\\sklearn\\linear_model\\_logistic.py:762: ConvergenceWarning: lbfgs failed to converge (status=1):\n",
      "STOP: TOTAL NO. of ITERATIONS REACHED LIMIT.\n",
      "\n",
      "Increase the number of iterations (max_iter) or scale the data as shown in:\n",
      "    https://scikit-learn.org/stable/modules/preprocessing.html\n",
      "Please also refer to the documentation for alternative solver options:\n",
      "    https://scikit-learn.org/stable/modules/linear_model.html#logistic-regression\n",
      "  n_iter_i = _check_optimize_result(\n"
     ]
    }
   ],
   "source": [
    "kfold = KFold(n_splits=5)\n",
    "model = LogisticRegression(C=5)\n",
    "results = cross_val_score(model,X,y,cv=kfold)\n",
    "print(results)\n",
    "print(\"Accuracy:\",results.mean()*100)"
   ]
  },
  {
   "cell_type": "code",
   "execution_count": 34,
   "metadata": {},
   "outputs": [
    {
     "data": {
      "text/plain": [
       "(0.580952380952381, 0.6135225885225886, 0.6538461538461539)"
      ]
     },
     "execution_count": 34,
     "metadata": {},
     "output_type": "execute_result"
    }
   ],
   "source": [
    "scores = pd.Series(scores)\n",
    "scores.min(), scores.mean(), scores.max()\n"
   ]
  },
  {
   "cell_type": "code",
   "execution_count": 35,
   "metadata": {},
   "outputs": [
    {
     "data": {
      "text/plain": [
       "0.6147959183673469"
      ]
     },
     "execution_count": 35,
     "metadata": {},
     "output_type": "execute_result"
    }
   ],
   "source": [
    "auto_mpg_model.score(X,y)\n"
   ]
  },
  {
   "cell_type": "code",
   "execution_count": 36,
   "metadata": {},
   "outputs": [],
   "source": [
    "train_accuracy = auto_mpg_model.score(X_train, y_train)\n",
    "test_accuracy = auto_mpg_model.score(X_test, y_test)"
   ]
  },
  {
   "cell_type": "code",
   "execution_count": 37,
   "metadata": {},
   "outputs": [
    {
     "name": "stdout",
     "output_type": "stream",
     "text": [
      "train_accuracy 0.6293929712460063\n"
     ]
    }
   ],
   "source": [
    "print(\"train_accuracy\", train_accuracy)"
   ]
  },
  {
   "cell_type": "code",
   "execution_count": 38,
   "metadata": {},
   "outputs": [
    {
     "name": "stdout",
     "output_type": "stream",
     "text": [
      "test_accuracy 0.5569620253164557\n"
     ]
    }
   ],
   "source": [
    "print(\"test_accuracy\", test_accuracy)"
   ]
  },
  {
   "cell_type": "code",
   "execution_count": 39,
   "metadata": {},
   "outputs": [],
   "source": [
    "# save auto_mpg_model as per analysis\n",
    "model_file = open('models/logistic_auto_mpg_model.pkl','wb')\n",
    "pickle.dump(auto_mpg_model, model_file)\n",
    "model_file.close()"
   ]
  },
  {
   "cell_type": "code",
   "execution_count": 40,
   "metadata": {},
   "outputs": [
    {
     "name": "stdout",
     "output_type": "stream",
     "text": [
      "LogisticRegression(multi_class='multinomial', random_state=0)\n"
     ]
    }
   ],
   "source": [
    "# reload the model from disk and check if it is saved properly.\n",
    "model_file = open('models/logistic_auto_mpg_model.pkl', 'rb')\n",
    "lr_model = pickle.load(model_file)\n",
    "model_file.close()\n",
    "print(lr_model)"
   ]
  },
  {
   "cell_type": "markdown",
   "metadata": {},
   "source": [
    "# Decision tree"
   ]
  },
  {
   "cell_type": "code",
   "execution_count": 41,
   "metadata": {},
   "outputs": [],
   "source": [
    "# create and fit a Decision tree model\n",
    "\n",
    "from sklearn.tree import DecisionTreeClassifier  \n",
    "#classifier= DecisionTreeClassifier(criterion='entropy', random_state=0)  \n",
    "\n",
    "\n",
    "\n",
    "classifier = DecisionTreeClassifier(criterion=\"gini\", random_state=42,max_depth=3, min_samples_leaf=5)   \n",
    "auto_mpg_model = classifier.fit(X_train,y_train)\n",
    "# computing y_pred (ie train_predictions) using X (ie train_features)\n",
    "train_predictions = classifier.predict(X_train)\n",
    "train_prediction = [int(round(x,0)) for x in train_predictions]\n",
    "y_pred = classifier.predict(X_test)"
   ]
  },
  {
   "cell_type": "code",
   "execution_count": 42,
   "metadata": {},
   "outputs": [
    {
     "data": {
      "text/plain": [
       "(0, 4)"
      ]
     },
     "execution_count": 42,
     "metadata": {},
     "output_type": "execute_result"
    }
   ],
   "source": [
    "y_pred.min(), y_pred.max()"
   ]
  },
  {
   "cell_type": "code",
   "execution_count": 43,
   "metadata": {},
   "outputs": [
    {
     "data": {
      "text/html": [
       "<div>\n",
       "<style scoped>\n",
       "    .dataframe tbody tr th:only-of-type {\n",
       "        vertical-align: middle;\n",
       "    }\n",
       "\n",
       "    .dataframe tbody tr th {\n",
       "        vertical-align: top;\n",
       "    }\n",
       "\n",
       "    .dataframe thead th {\n",
       "        text-align: right;\n",
       "    }\n",
       "</style>\n",
       "<table border=\"1\" class=\"dataframe\">\n",
       "  <thead>\n",
       "    <tr style=\"text-align: right;\">\n",
       "      <th></th>\n",
       "      <th>0</th>\n",
       "      <th>1</th>\n",
       "      <th>2</th>\n",
       "      <th>3</th>\n",
       "      <th>4</th>\n",
       "    </tr>\n",
       "  </thead>\n",
       "  <tbody>\n",
       "    <tr>\n",
       "      <th>0</th>\n",
       "      <td>17</td>\n",
       "      <td>1</td>\n",
       "      <td>0</td>\n",
       "      <td>0</td>\n",
       "      <td>0</td>\n",
       "    </tr>\n",
       "    <tr>\n",
       "      <th>1</th>\n",
       "      <td>4</td>\n",
       "      <td>3</td>\n",
       "      <td>7</td>\n",
       "      <td>0</td>\n",
       "      <td>0</td>\n",
       "    </tr>\n",
       "    <tr>\n",
       "      <th>2</th>\n",
       "      <td>0</td>\n",
       "      <td>0</td>\n",
       "      <td>11</td>\n",
       "      <td>6</td>\n",
       "      <td>0</td>\n",
       "    </tr>\n",
       "    <tr>\n",
       "      <th>3</th>\n",
       "      <td>0</td>\n",
       "      <td>0</td>\n",
       "      <td>7</td>\n",
       "      <td>10</td>\n",
       "      <td>3</td>\n",
       "    </tr>\n",
       "    <tr>\n",
       "      <th>4</th>\n",
       "      <td>0</td>\n",
       "      <td>0</td>\n",
       "      <td>2</td>\n",
       "      <td>3</td>\n",
       "      <td>5</td>\n",
       "    </tr>\n",
       "  </tbody>\n",
       "</table>\n",
       "</div>"
      ],
      "text/plain": [
       "    0  1   2   3  4\n",
       "0  17  1   0   0  0\n",
       "1   4  3   7   0  0\n",
       "2   0  0  11   6  0\n",
       "3   0  0   7  10  3\n",
       "4   0  0   2   3  5"
      ]
     },
     "execution_count": 43,
     "metadata": {},
     "output_type": "execute_result"
    }
   ],
   "source": [
    "#Creating the Confusion matrix  \n",
    "from sklearn.metrics import confusion_matrix  \n",
    "cm= confusion_matrix(y_test,y_pred)  \n",
    "coords = [x for x in range(0,5)]\n",
    "cm = pd.DataFrame(cm,columns=coords, index=coords )\n",
    "cm\n"
   ]
  },
  {
   "cell_type": "code",
   "execution_count": 44,
   "metadata": {},
   "outputs": [
    {
     "data": {
      "text/plain": [
       "0.5822784810126582"
      ]
     },
     "execution_count": 44,
     "metadata": {},
     "output_type": "execute_result"
    }
   ],
   "source": [
    "from sklearn.metrics import accuracy_score,classification_report,confusion_matrix\n",
    "accuracy_score(y_test,y_pred)"
   ]
  },
  {
   "cell_type": "markdown",
   "metadata": {},
   "source": [
    "## Visualizing Decision Tree in the Tree Structure"
   ]
  },
  {
   "cell_type": "code",
   "execution_count": 45,
   "metadata": {},
   "outputs": [
    {
     "data": {
      "image/png": "[encoded data removed]",
      "text/plain": [
       "<Figure size 720x720 with 1 Axes>"
      ]
     },
     "metadata": {
      "needs_background": "light"
     },
     "output_type": "display_data"
    }
   ],
   "source": [
    "from sklearn import tree\n",
    " \n",
    "fig, ax = plt.subplots(figsize=(10, 10))\n",
    "tree.plot_tree(classifier, fontsize=10)\n",
    "plt.show()"
   ]
  },
  {
   "cell_type": "code",
   "execution_count": 46,
   "metadata": {},
   "outputs": [
    {
     "name": "stdout",
     "output_type": "stream",
     "text": [
      "Test Accuracy Score 0.5822784810126582\n"
     ]
    }
   ],
   "source": [
    "score = classifier.score(X_test, y_test)\n",
    "print('Test Accuracy Score', score)"
   ]
  },
  {
   "cell_type": "code",
   "execution_count": 112,
   "metadata": {},
   "outputs": [],
   "source": [
    "# save auto_mpg_model as per analysis\n",
    "d_tree_model_file = open('models/decision_tree_auto_mpg_model.pkl','wb')\n",
    "pickle.dump(auto_mpg_model, d_tree_model_file)\n",
    "d_tree_model_file.close()"
   ]
  },
  {
   "cell_type": "code",
   "execution_count": 113,
   "metadata": {},
   "outputs": [
    {
     "name": "stdout",
     "output_type": "stream",
     "text": [
      "DecisionTreeClassifier(max_depth=3, min_samples_leaf=5, random_state=42)\n"
     ]
    }
   ],
   "source": [
    "# reload the model from disk and check if it is saved properly.\n",
    "d_tree_model_file = open('models/decision_tree_auto_mpg_model.pkl', 'rb')\n",
    "dtree_model = pickle.load(d_tree_model_file)\n",
    "d_tree_model_file.close()\n",
    "print(dtree_model)"
   ]
  },
  {
   "cell_type": "markdown",
   "metadata": {},
   "source": [
    "# Random Forest"
   ]
  },
  {
   "cell_type": "code",
   "execution_count": 87,
   "metadata": {},
   "outputs": [
    {
     "data": {
      "text/plain": [
       "RandomForestClassifier(criterion='entropy', n_estimators=10)"
      ]
     },
     "execution_count": 87,
     "metadata": {},
     "output_type": "execute_result"
    }
   ],
   "source": [
    "# create and fit a RandomForest model\n",
    "\n",
    "from sklearn.ensemble import RandomForestClassifier \n",
    "\n",
    "classifier= RandomForestClassifier(n_estimators= 10, criterion=\"entropy\")  \n",
    "classifier.fit(X_train, y_train)  "
   ]
  },
  {
   "cell_type": "code",
   "execution_count": 88,
   "metadata": {},
   "outputs": [],
   "source": [
    "# computing yhat (ie train_predictions) using X (ie train_features)\n",
    "train_predictions = classifier.predict(X_train)\n",
    "train_prediction = [int(round(x,0)) for x in train_predictions]\n",
    "y_pred = classifier.predict(X_test)"
   ]
  },
  {
   "cell_type": "code",
   "execution_count": 89,
   "metadata": {},
   "outputs": [
    {
     "data": {
      "text/plain": [
       "(0, 4)"
      ]
     },
     "execution_count": 89,
     "metadata": {},
     "output_type": "execute_result"
    }
   ],
   "source": [
    "y_pred.min(), y_pred.max()"
   ]
  },
  {
   "cell_type": "code",
   "execution_count": 55,
   "metadata": {},
   "outputs": [],
   "source": [
    "param_grid = { \n",
    "    'n_estimators': [200, 500],\n",
    "    'max_features': ['auto', 'sqrt', 'log2'],\n",
    "    'max_depth' : [7,8,9,10,11],\n",
    "    'criterion' :['gini', 'entropy']\n",
    "}"
   ]
  },
  {
   "cell_type": "code",
   "execution_count": 56,
   "metadata": {},
   "outputs": [
    {
     "data": {
      "text/plain": [
       "GridSearchCV(cv=5,\n",
       "             estimator=RandomForestClassifier(criterion='entropy',\n",
       "                                              n_estimators=10),\n",
       "             param_grid={'criterion': ['gini', 'entropy'],\n",
       "                         'max_depth': [7, 8, 9, 10, 11],\n",
       "                         'max_features': ['auto', 'sqrt', 'log2'],\n",
       "                         'n_estimators': [200, 500]})"
      ]
     },
     "execution_count": 56,
     "metadata": {},
     "output_type": "execute_result"
    }
   ],
   "source": [
    "from sklearn.model_selection import GridSearchCV\n",
    "CV_rfc = GridSearchCV(estimator=classifier, param_grid=param_grid, cv= 5)\n",
    "CV_rfc.fit(X_train, y_train)"
   ]
  },
  {
   "cell_type": "code",
   "execution_count": 90,
   "metadata": {},
   "outputs": [
    {
     "data": {
      "text/plain": [
       "{'criterion': 'entropy',\n",
       " 'max_depth': 11,\n",
       " 'max_features': 'log2',\n",
       " 'n_estimators': 500}"
      ]
     },
     "execution_count": 90,
     "metadata": {},
     "output_type": "execute_result"
    }
   ],
   "source": [
    "CV_rfc.best_params_"
   ]
  },
  {
   "cell_type": "code",
   "execution_count": 91,
   "metadata": {},
   "outputs": [],
   "source": [
    "rfc1=RandomForestClassifier(random_state=42, max_features='log2', n_estimators= 500, max_depth=11, criterion='entropy')\n"
   ]
  },
  {
   "cell_type": "code",
   "execution_count": 92,
   "metadata": {},
   "outputs": [
    {
     "data": {
      "text/plain": [
       "RandomForestClassifier(criterion='entropy', max_depth=11, max_features='log2',\n",
       "                       n_estimators=500, random_state=42)"
      ]
     },
     "execution_count": 92,
     "metadata": {},
     "output_type": "execute_result"
    }
   ],
   "source": [
    "rfc1.fit(X_train, y_train)"
   ]
  },
  {
   "cell_type": "code",
   "execution_count": 93,
   "metadata": {},
   "outputs": [],
   "source": [
    "pred=rfc1.predict(X_test)"
   ]
  },
  {
   "cell_type": "code",
   "execution_count": 94,
   "metadata": {},
   "outputs": [
    {
     "name": "stdout",
     "output_type": "stream",
     "text": [
      "Accuracy for Random Forest on CV data:  0.7721518987341772\n"
     ]
    }
   ],
   "source": [
    "from sklearn.metrics import accuracy_score\n",
    "print(\"Accuracy for Random Forest on CV data: \",accuracy_score(y_test,pred))"
   ]
  },
  {
   "cell_type": "code",
   "execution_count": 95,
   "metadata": {},
   "outputs": [
    {
     "data": {
      "text/html": [
       "<div>\n",
       "<style scoped>\n",
       "    .dataframe tbody tr th:only-of-type {\n",
       "        vertical-align: middle;\n",
       "    }\n",
       "\n",
       "    .dataframe tbody tr th {\n",
       "        vertical-align: top;\n",
       "    }\n",
       "\n",
       "    .dataframe thead th {\n",
       "        text-align: right;\n",
       "    }\n",
       "</style>\n",
       "<table border=\"1\" class=\"dataframe\">\n",
       "  <thead>\n",
       "    <tr style=\"text-align: right;\">\n",
       "      <th></th>\n",
       "      <th>0</th>\n",
       "      <th>1</th>\n",
       "      <th>2</th>\n",
       "      <th>3</th>\n",
       "      <th>4</th>\n",
       "    </tr>\n",
       "  </thead>\n",
       "  <tbody>\n",
       "    <tr>\n",
       "      <th>0</th>\n",
       "      <td>16</td>\n",
       "      <td>2</td>\n",
       "      <td>0</td>\n",
       "      <td>0</td>\n",
       "      <td>0</td>\n",
       "    </tr>\n",
       "    <tr>\n",
       "      <th>1</th>\n",
       "      <td>3</td>\n",
       "      <td>6</td>\n",
       "      <td>4</td>\n",
       "      <td>1</td>\n",
       "      <td>0</td>\n",
       "    </tr>\n",
       "    <tr>\n",
       "      <th>2</th>\n",
       "      <td>0</td>\n",
       "      <td>3</td>\n",
       "      <td>9</td>\n",
       "      <td>5</td>\n",
       "      <td>0</td>\n",
       "    </tr>\n",
       "    <tr>\n",
       "      <th>3</th>\n",
       "      <td>0</td>\n",
       "      <td>0</td>\n",
       "      <td>3</td>\n",
       "      <td>15</td>\n",
       "      <td>2</td>\n",
       "    </tr>\n",
       "    <tr>\n",
       "      <th>4</th>\n",
       "      <td>0</td>\n",
       "      <td>0</td>\n",
       "      <td>0</td>\n",
       "      <td>2</td>\n",
       "      <td>8</td>\n",
       "    </tr>\n",
       "  </tbody>\n",
       "</table>\n",
       "</div>"
      ],
      "text/plain": [
       "    0  1  2   3  4\n",
       "0  16  2  0   0  0\n",
       "1   3  6  4   1  0\n",
       "2   0  3  9   5  0\n",
       "3   0  0  3  15  2\n",
       "4   0  0  0   2  8"
      ]
     },
     "execution_count": 95,
     "metadata": {},
     "output_type": "execute_result"
    }
   ],
   "source": [
    "#Creating the Confusion matrix  \n",
    "from sklearn.metrics import confusion_matrix  \n",
    "cm= confusion_matrix(y_test,y_pred)  \n",
    "coords = [x for x in range(0,5)]\n",
    "cm = pd.DataFrame(cm,columns=coords, index=coords )\n",
    "cm\n"
   ]
  },
  {
   "cell_type": "markdown",
   "metadata": {},
   "source": [
    "## Visualizing Random Forest in the Tree Structure"
   ]
  },
  {
   "cell_type": "code",
   "execution_count": 96,
   "metadata": {},
   "outputs": [
    {
     "data": {
      "text/plain": [
       "<Figure size 432x288 with 0 Axes>"
      ]
     },
     "metadata": {},
     "output_type": "display_data"
    },
    {
     "data": {
      "image/png": "[encoded data removed]",
      "text/plain": [
       "<Figure size 1080x1080 with 1 Axes>"
      ]
     },
     "metadata": {
      "needs_background": "light"
     },
     "output_type": "display_data"
    },
    {
     "data": {
      "image/png": "[encoded data removed]",
      "text/plain": [
       "<Figure size 432x288 with 1 Axes>"
      ]
     },
     "metadata": {
      "needs_background": "light"
     },
     "output_type": "display_data"
    },
    {
     "data": {
      "image/png": "[encoded data removed]",
      "text/plain": [
       "<Figure size 432x288 with 1 Axes>"
      ]
     },
     "metadata": {
      "needs_background": "light"
     },
     "output_type": "display_data"
    }
   ],
   "source": [
    "from matplotlib import pyplot as plt\n",
    "from sklearn import tree\n",
    "fig = plt.figure()\n",
    "fig, ax = plt.subplots(figsize=(15,15))\n",
    "\n",
    "tree.plot_tree(rfc1.estimators_[5],label='all', fontsize=10)\n",
    "plt.show()\n",
    "\n",
    "tree.plot_tree(rfc1.estimators_[8], label='all',fontsize=10)\n",
    "plt.show()\n",
    "tree.plot_tree(rfc1.estimators_[3],label='all', fontsize=10)\n",
    "plt.show()"
   ]
  },
  {
   "cell_type": "code",
   "execution_count": 99,
   "metadata": {},
   "outputs": [
    {
     "name": "stdout",
     "output_type": "stream",
     "text": [
      "Test Accuracy Score 0.6835443037974683\n"
     ]
    }
   ],
   "source": [
    "score = classifier.score(X_test, y_test)\n",
    "print('Test Accuracy Score', score)"
   ]
  },
  {
   "cell_type": "code",
   "execution_count": 115,
   "metadata": {},
   "outputs": [],
   "source": [
    "# save auto_mpg_model as per analysis\n",
    "random_model_file = open('models/random_forest_auto_mpg_model.pkl','wb')\n",
    "pickle.dump(auto_mpg_model, random_model_file)\n",
    "random_model_file.close()"
   ]
  },
  {
   "cell_type": "code",
   "execution_count": 116,
   "metadata": {},
   "outputs": [
    {
     "name": "stdout",
     "output_type": "stream",
     "text": [
      "DecisionTreeClassifier(max_depth=3, min_samples_leaf=5, random_state=42)\n"
     ]
    }
   ],
   "source": [
    "# reload the model from disk and check if it is saved properly.\n",
    "random_model_file = open('models/random_forest_auto_mpg_model.pkl', 'rb')\n",
    "random_model = pickle.load(random_model_file)\n",
    "random_model_file.close()\n",
    "print(random_model)"
   ]
  },
  {
   "cell_type": "code",
   "execution_count": null,
   "metadata": {},
   "outputs": [],
   "source": []
  }
 ],
 "metadata": {
  "kernelspec": {
   "display_name": "Python 3",
   "language": "python",
   "name": "python3"
  },
  "language_info": {
   "codemirror_mode": {
    "name": "ipython",
    "version": 3
   },
   "file_extension": ".py",
   "mimetype": "text/x-python",
   "name": "python",
   "nbconvert_exporter": "python",
   "pygments_lexer": "ipython3",
   "version": "3.8.5"
  }
 },
 "nbformat": 4,
 "nbformat_minor": 4
}
