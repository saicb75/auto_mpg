{
 "cells": [
  {
   "cell_type": "markdown",
   "metadata": {},
   "source": [
    "# Auto mpg  Model Deployment\n",
    "After analysing the given dataset, we have built and saved  model.\n",
    "\n",
    "This Flask application is written to deploy the model in production so that users can supply automobile parameters and obtain an estimated mpg prediction.\n",
    "\n",
    "There are two deployment models supported:\n",
    "\n",
    "1. Deployment to local machine\n",
    "    1. Just run this notebook in your local machine\n",
    "    \n",
    "2. Deployment to Heroku, which needs\n",
    "    1. Procfile\n",
    "    2. requirements.txt\n",
    "\n",
    "(search for and follow the steps to deploy the complete `deployment` folder, subfolders and contents to Heroku)"
   ]
  },
  {
   "cell_type": "code",
   "execution_count": null,
   "metadata": {},
   "outputs": [],
   "source": [
    "import pandas as pd\n",
    "from flask import Flask, request, render_template, redirect\n",
    "import pickle"
   ]
  },
  {
   "cell_type": "markdown",
   "metadata": {},
   "source": [
    "### Load the Linear Regression  Auto mpg Model"
   ]
  },
  {
   "cell_type": "code",
   "execution_count": null,
   "metadata": {},
   "outputs": [],
   "source": [
    "print(f'Creating a flask app for {__name__}')\n",
    "app = Flask(__name__)"
   ]
  },
  {
   "cell_type": "code",
   "execution_count": null,
   "metadata": {},
   "outputs": [],
   "source": [
    "def load_model(filename):\n",
    "    pklfile = open(filename, 'rb')\n",
    "    lr_model = pickle.load(pklfile)\n",
    "    pklfile.close()\n",
    "    return lr_model"
   ]
  },
  {
   "cell_type": "code",
   "execution_count": null,
   "metadata": {},
   "outputs": [],
   "source": [
    "lr_model_auto_mpg = load_model(\"../models/auto_mpg_model.pkl\")\n"
   ]
  },
  {
   "cell_type": "markdown",
   "metadata": {},
   "source": [
    "### Create a flask app"
   ]
  },
  {
   "cell_type": "markdown",
   "metadata": {},
   "source": [
    "### Establish Routes for Auto mpg Prediction"
   ]
  },
  {
   "cell_type": "code",
   "execution_count": null,
   "metadata": {},
   "outputs": [],
   "source": [
    "#Establish default route\n",
    "@app.route('/')\n",
    "def default():\n",
    "    return redirect('/auto_mpg_input')"
   ]
  },
  {
   "cell_type": "code",
   "execution_count": null,
   "metadata": {},
   "outputs": [],
   "source": [
    "# Establish auto mpg routes\n",
    "@app.route('/auto_mpg_input')\n",
    "def auto_mpg_input():\n",
    "    return render_template('auto_mpg_input.html')\n",
    "\n",
    "@app.route('/auto_mpg_predict', methods = ['GET'])\n",
    "def auto_mpg_predict():\n",
    "    if request.method == 'GET':\n",
    "        cylin = request.args.get('cylin')\n",
    "        disp = request.args.get('disp')\n",
    "        hp = request.args.get('hp')\n",
    "        wt = request.args.get('wt')\n",
    "        accer = request.args.get('accer')\n",
    "        mod_year = request.args.get('mod_year')\n",
    "        org = request.args.get('org')\n",
    "        \n",
    "              \n",
    "        data_auto_mpg = pd.DataFrame([[cylin,disp,hp,wt,accer,mod_year,org]])\n",
    "        arr_auto_mpg_predict = lr_model_auto_mpg.predict(data_auto_mpg)[0]\n",
    "        arr_auto_mpg_predict = int(round(arr_auto_mpg_predict,0))\n",
    "        \n",
    "        return render_template('auto_mpg_predict.html',cylin = cylin, disp = disp,\n",
    "                               hp = hp, wt = wt, accer = accer, \n",
    "                               mod_year = mod_year, org = org,\n",
    "                               arr_auto_mpg_predict=arr_auto_mpg_predict)\n",
    "    \n",
    "    return \"Unsupported request method,{}\".format(request.method),400"
   ]
  },
  {
   "cell_type": "markdown",
   "metadata": {},
   "source": [
    "### Run the Flask Web Server"
   ]
  },
  {
   "cell_type": "code",
   "execution_count": null,
   "metadata": {},
   "outputs": [],
   "source": [
    "if __name__ == '__main__':\n",
    "    app.run()"
   ]
  }
 ],
 "metadata": {
  "kernelspec": {
   "display_name": "Python 3",
   "language": "python",
   "name": "python3"
  },
  "language_info": {
   "codemirror_mode": {
    "name": "ipython",
    "version": 3
   },
   "file_extension": ".py",
   "mimetype": "text/x-python",
   "name": "python",
   "nbconvert_exporter": "python",
   "pygments_lexer": "ipython3",
   "version": "3.8.5"
  }
 },
 "nbformat": 4,
 "nbformat_minor": 4
}
